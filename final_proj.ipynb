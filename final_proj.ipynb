{
 "cells": [
  {
   "cell_type": "code",
   "id": "initial_id",
   "metadata": {
    "collapsed": true,
    "ExecuteTime": {
     "end_time": "2024-12-01T19:09:29.591461Z",
     "start_time": "2024-12-01T19:09:29.585876Z"
    }
   },
   "source": [
    "import pandas as pd\n",
    "import numpy as np\n",
    "import matplotlib.pyplot as plt\n",
    "from scipy import stats\n",
    "from networkx.utils.random_sequence import cumulative_distribution\n"
   ],
   "outputs": [],
   "execution_count": 25
  },
  {
   "metadata": {
    "ExecuteTime": {
     "end_time": "2024-12-01T19:09:29.614544Z",
     "start_time": "2024-12-01T19:09:29.610984Z"
    }
   },
   "cell_type": "code",
   "source": "",
   "id": "604e9a1582f36822",
   "outputs": [],
   "execution_count": null
  },
  {
   "metadata": {},
   "cell_type": "markdown",
   "source": "## Calculation and graphic work in Statistics",
   "id": "d8be2686370261f2"
  },
  {
   "metadata": {},
   "cell_type": "markdown",
   "source": "## Part 1",
   "id": "7b2ad0f4e332b06f"
  },
  {
   "metadata": {
    "ExecuteTime": {
     "end_time": "2024-12-01T19:09:29.693319Z",
     "start_time": "2024-12-01T19:09:29.677631Z"
    }
   },
   "cell_type": "code",
   "source": [
    "values = np.array([0.63, 0.74, 2.44, 0.27, 2.46, 2.41, 0.77, 4.78, 1.58, 0.15,0.02, 1.67, 1.93, 0.37, 0.82, 0.05, 2.34, 0.19, 3.23, 1.62, 2.41, 0.18, 0.1 , 0.75, 1.97, 2.4 , 0.06, 4.81, 0.87, 2.05,0.32, 0.46, 1.47, 0.08, 0.23, 3.94, 0.57, 0.32, 1.89, 2.45,0.27, 2.51, 0.17, 0.04, 0.57, 2.44, 1.05, 5.69, 0.47, 0.59,0.64, 2.09, 1.61, 0.29, 0.82, 1.82, 0.03, 0.78, 0.36, 0.52,0.09, 1.59, 0.46, 1.17, 0.74, 0.11, 1.51, 2.33, 0.58, 0.11,1.97, 0.06, 0.35, 0.25, 0.61, 0.22, 0.79, 1.59, 3.54, 0.62,0.67, 1.57, 0.47, 0.3 , 0.05, 2.09, 0.23, 1.91, 1.5 , 0.35,1.48, 2.75, 1.43, 2.54, 1.45, 1.38, 0.23, 0.81, 1.19, 1.39])\n",
    "\n",
    "values = np.sort(values)\n",
    "\n",
    "values\n"
   ],
   "id": "f101b8a7e0f6cbcb",
   "outputs": [
    {
     "data": {
      "text/plain": [
       "array([1.  , 1.  , 1.01, 1.01, 1.01, 1.01, 1.02, 1.02, 1.02, 1.02, 1.03,\n",
       "       1.03, 1.03, 1.03, 1.03, 1.03, 1.03, 1.04, 1.04, 1.04, 1.04, 1.05,\n",
       "       1.05, 1.06, 1.06, 1.06, 1.06, 1.06, 1.07, 1.08, 1.08, 1.08, 1.08,\n",
       "       1.09, 1.11, 1.11, 1.11, 1.13, 1.13, 1.13, 1.13, 1.13, 1.13, 1.14,\n",
       "       1.14, 1.14, 1.15, 1.15, 1.16, 1.17, 1.18, 1.18, 1.18, 1.18, 1.18,\n",
       "       1.18, 1.19, 1.19, 1.19, 1.2 , 1.2 , 1.21, 1.21, 1.21, 1.21, 1.22,\n",
       "       1.22, 1.23, 1.23, 1.23, 1.23, 1.24, 1.24, 1.24, 1.25, 1.25, 1.27,\n",
       "       1.27, 1.28, 1.29, 1.29, 1.32, 1.33, 1.33, 1.36, 1.37, 1.38, 1.39,\n",
       "       1.39, 1.4 , 1.43, 1.44, 1.48, 1.51, 1.52, 1.52, 1.53, 1.61, 1.73,\n",
       "       2.16])"
      ]
     },
     "execution_count": 26,
     "metadata": {},
     "output_type": "execute_result"
    }
   ],
   "execution_count": 26
  },
  {
   "metadata": {
    "ExecuteTime": {
     "end_time": "2024-12-01T19:09:29.855217Z",
     "start_time": "2024-12-01T19:09:29.850400Z"
    }
   },
   "cell_type": "code",
   "source": [
    "# plt.plot(scalex = values)\n",
    "# plt.show()"
   ],
   "id": "249ee5494709dcc9",
   "outputs": [],
   "execution_count": 27
  },
  {
   "metadata": {
    "ExecuteTime": {
     "end_time": "2024-12-01T19:09:29.982688Z",
     "start_time": "2024-12-01T19:09:29.971365Z"
    }
   },
   "cell_type": "code",
   "source": [
    "bin_num = 1 + np.floor(np.log2(len(values)))\n",
    "bin_len = np.round((values[-1] - values[0])/bin_num,2 )\n",
    "\n",
    "bins = np.arange(0, np.ceil(values[-1]), bin_len)\n",
    "#TODO last value does nto fit in a range\n",
    "bins[-1] = bins[-1] + 0.1\n",
    "frequencies, bin_edges = np.histogram(values, bins=bins)\n",
    "bin_edges = np.round(bin_edges, 2)\n",
    "middle = [np.round((bin_edges[i] + bin_edges[i +1])/2, 2 )for i in range(len(bin_edges) -1)]\n",
    "cum_freq = np.cumsum(frequencies)\n",
    "rel_freq = frequencies/len(values)\n",
    "cum_real_freq = np.cumsum(rel_freq)\n",
    "print(bin_edges)"
   ],
   "id": "ab2d3d15c5f21222",
   "outputs": [
    {
     "name": "stdout",
     "output_type": "stream",
     "text": [
      "[1.   1.17 1.34 1.51 1.68 1.85 2.02 2.19 2.36 2.53 2.7  2.97]\n"
     ]
    }
   ],
   "execution_count": 28
  },
  {
   "metadata": {
    "ExecuteTime": {
     "end_time": "2024-12-01T19:09:30.162218Z",
     "start_time": "2024-12-01T19:09:30.140319Z"
    }
   },
   "cell_type": "code",
   "source": [
    "df = pd.DataFrame({\n",
    "    'Bins': [f\"{bin_edges[i]} - {bin_edges[i+1]}\" for i in range(len(bin_edges) -1)],\n",
    "    'Bin_Middle': middle,\n",
    "    'Frequency': frequencies,\n",
    "    'Cumulative_Frequency': cum_freq,\n",
    "    'Relative_Frequency': rel_freq,\n",
    "    'Cumulative_Relative_suFrequency': cum_real_freq\n",
    "})\n",
    "df"
   ],
   "id": "4d4252e97a0c4b37",
   "outputs": [
    {
     "data": {
      "text/plain": [
       "           Bins  Bin_Middle  Frequency  Cumulative_Frequency  \\\n",
       "0    1.0 - 1.17        1.08         49                    49   \n",
       "1   1.17 - 1.34        1.25         35                    84   \n",
       "2   1.34 - 1.51        1.42          9                    93   \n",
       "3   1.51 - 1.68        1.60          5                    98   \n",
       "4   1.68 - 1.85        1.76          1                    99   \n",
       "5   1.85 - 2.02        1.94          0                    99   \n",
       "6   2.02 - 2.19        2.10          1                   100   \n",
       "7   2.19 - 2.36        2.28          0                   100   \n",
       "8   2.36 - 2.53        2.44          0                   100   \n",
       "9    2.53 - 2.7        2.62          0                   100   \n",
       "10   2.7 - 2.97        2.84          0                   100   \n",
       "\n",
       "    Relative_Frequency  Cumulative_Relative_suFrequency  \n",
       "0                 0.49                             0.49  \n",
       "1                 0.35                             0.84  \n",
       "2                 0.09                             0.93  \n",
       "3                 0.05                             0.98  \n",
       "4                 0.01                             0.99  \n",
       "5                 0.00                             0.99  \n",
       "6                 0.01                             1.00  \n",
       "7                 0.00                             1.00  \n",
       "8                 0.00                             1.00  \n",
       "9                 0.00                             1.00  \n",
       "10                0.00                             1.00  "
      ],
      "text/html": [
       "<div>\n",
       "<style scoped>\n",
       "    .dataframe tbody tr th:only-of-type {\n",
       "        vertical-align: middle;\n",
       "    }\n",
       "\n",
       "    .dataframe tbody tr th {\n",
       "        vertical-align: top;\n",
       "    }\n",
       "\n",
       "    .dataframe thead th {\n",
       "        text-align: right;\n",
       "    }\n",
       "</style>\n",
       "<table border=\"1\" class=\"dataframe\">\n",
       "  <thead>\n",
       "    <tr style=\"text-align: right;\">\n",
       "      <th></th>\n",
       "      <th>Bins</th>\n",
       "      <th>Bin_Middle</th>\n",
       "      <th>Frequency</th>\n",
       "      <th>Cumulative_Frequency</th>\n",
       "      <th>Relative_Frequency</th>\n",
       "      <th>Cumulative_Relative_suFrequency</th>\n",
       "    </tr>\n",
       "  </thead>\n",
       "  <tbody>\n",
       "    <tr>\n",
       "      <th>0</th>\n",
       "      <td>1.0 - 1.17</td>\n",
       "      <td>1.08</td>\n",
       "      <td>49</td>\n",
       "      <td>49</td>\n",
       "      <td>0.49</td>\n",
       "      <td>0.49</td>\n",
       "    </tr>\n",
       "    <tr>\n",
       "      <th>1</th>\n",
       "      <td>1.17 - 1.34</td>\n",
       "      <td>1.25</td>\n",
       "      <td>35</td>\n",
       "      <td>84</td>\n",
       "      <td>0.35</td>\n",
       "      <td>0.84</td>\n",
       "    </tr>\n",
       "    <tr>\n",
       "      <th>2</th>\n",
       "      <td>1.34 - 1.51</td>\n",
       "      <td>1.42</td>\n",
       "      <td>9</td>\n",
       "      <td>93</td>\n",
       "      <td>0.09</td>\n",
       "      <td>0.93</td>\n",
       "    </tr>\n",
       "    <tr>\n",
       "      <th>3</th>\n",
       "      <td>1.51 - 1.68</td>\n",
       "      <td>1.60</td>\n",
       "      <td>5</td>\n",
       "      <td>98</td>\n",
       "      <td>0.05</td>\n",
       "      <td>0.98</td>\n",
       "    </tr>\n",
       "    <tr>\n",
       "      <th>4</th>\n",
       "      <td>1.68 - 1.85</td>\n",
       "      <td>1.76</td>\n",
       "      <td>1</td>\n",
       "      <td>99</td>\n",
       "      <td>0.01</td>\n",
       "      <td>0.99</td>\n",
       "    </tr>\n",
       "    <tr>\n",
       "      <th>5</th>\n",
       "      <td>1.85 - 2.02</td>\n",
       "      <td>1.94</td>\n",
       "      <td>0</td>\n",
       "      <td>99</td>\n",
       "      <td>0.00</td>\n",
       "      <td>0.99</td>\n",
       "    </tr>\n",
       "    <tr>\n",
       "      <th>6</th>\n",
       "      <td>2.02 - 2.19</td>\n",
       "      <td>2.10</td>\n",
       "      <td>1</td>\n",
       "      <td>100</td>\n",
       "      <td>0.01</td>\n",
       "      <td>1.00</td>\n",
       "    </tr>\n",
       "    <tr>\n",
       "      <th>7</th>\n",
       "      <td>2.19 - 2.36</td>\n",
       "      <td>2.28</td>\n",
       "      <td>0</td>\n",
       "      <td>100</td>\n",
       "      <td>0.00</td>\n",
       "      <td>1.00</td>\n",
       "    </tr>\n",
       "    <tr>\n",
       "      <th>8</th>\n",
       "      <td>2.36 - 2.53</td>\n",
       "      <td>2.44</td>\n",
       "      <td>0</td>\n",
       "      <td>100</td>\n",
       "      <td>0.00</td>\n",
       "      <td>1.00</td>\n",
       "    </tr>\n",
       "    <tr>\n",
       "      <th>9</th>\n",
       "      <td>2.53 - 2.7</td>\n",
       "      <td>2.62</td>\n",
       "      <td>0</td>\n",
       "      <td>100</td>\n",
       "      <td>0.00</td>\n",
       "      <td>1.00</td>\n",
       "    </tr>\n",
       "    <tr>\n",
       "      <th>10</th>\n",
       "      <td>2.7 - 2.97</td>\n",
       "      <td>2.84</td>\n",
       "      <td>0</td>\n",
       "      <td>100</td>\n",
       "      <td>0.00</td>\n",
       "      <td>1.00</td>\n",
       "    </tr>\n",
       "  </tbody>\n",
       "</table>\n",
       "</div>"
      ]
     },
     "execution_count": 29,
     "metadata": {},
     "output_type": "execute_result"
    }
   ],
   "execution_count": 29
  },
  {
   "metadata": {
    "ExecuteTime": {
     "end_time": "2024-12-01T19:09:30.669442Z",
     "start_time": "2024-12-01T19:09:30.335861Z"
    }
   },
   "cell_type": "code",
   "source": [
    "plt.figure(figsize=(10, 6))\n",
    "\n",
    "corrected_rel_freq = rel_freq/bin_len\n",
    "plt.bar(middle, corrected_rel_freq, width=bin_len, align='center', edgecolor='black')\n",
    "\n",
    "plt.title('Relative Frequency Distribution', fontsize=14)\n",
    "plt.xlabel('Value Range (Bin Midpoints)', fontsize=12)\n",
    "plt.ylabel('Relative Frequency', fontsize=12)\n",
    "plt.xticks(middle, rotation=45)\n",
    "plt.grid(True)\n",
    "plt.show()"
   ],
   "id": "2ba763b0df787b3c",
   "outputs": [
    {
     "data": {
      "text/plain": [
       "<Figure size 1000x600 with 1 Axes>"
      ],
      "image/png": "[encoded data removed]"
     },
     "metadata": {},
     "output_type": "display_data"
    }
   ],
   "execution_count": 30
  },
  {
   "metadata": {
    "ExecuteTime": {
     "end_time": "2024-12-01T19:09:31.092740Z",
     "start_time": "2024-12-01T19:09:30.747047Z"
    }
   },
   "cell_type": "code",
   "source": [
    "import numpy as np\n",
    "import matplotlib.pyplot as plt\n",
    "\n",
    "cdf = cum_freq /len(values)\n",
    "\n",
    "def plot_empirical_cdf(x_sample, y_sample):\n",
    "\n",
    "    plt.plot([x_sample[0] - 0.5, x_sample[0]], [0, 0], linewidth=2, color='b')\n",
    "    for i in range(len(x_sample)-1):\n",
    "        plt.plot([x_sample[i], x_sample[i + 1]], [y_sample[i], y_sample[i]], linewidth=2, color='b')\n",
    "        plt.vlines(x_sample[i], ymin=0, ymax=y_sample[i], linewidth=0.3, color='r', linestyles='dashed')\n",
    "\n",
    "    plt.plot([x_sample[len(x_sample)-1], x_sample[len(x_sample)-1] + 0.5], [1, 1], linewidth=2, color='b')\n",
    "    \n",
    "    plt.vlines(x_sample.max(), ymin=0, ymax=1, linewidth=0.3, color='r', linestyles='dashed')\n",
    "    plt.title('Cumulative Distribution Function (CDF)', fontsize=14)\n",
    "    plt.xlabel('Value', fontsize=12)\n",
    "    plt.ylabel('Cumulative Probability', fontsize=12)\n",
    "    plt.show()\n",
    "\n",
    "fig, ax = plt.subplots(figsize=(12, 6))\n",
    "ax.spines['right'].set_visible(False)\n",
    "ax.spines['top'].set_visible(False)\n",
    "ax.spines['bottom'].set_position('zero')\n",
    "ax.xaxis.set_tick_params(labelsize=15)\n",
    "ax.yaxis.set_tick_params(labelsize=15)\n",
    "ax.set_xlim(bin_edges[0] - 0.5, bin_edges[-1] + 0.5)\n",
    "ax.set_xticks(bin_edges)\n",
    "ax.set_yticks([0.2, 0.4, 0.6, 0.8, 1])\n",
    "\n",
    "plot_empirical_cdf(bin_edges[:-1], cdf)\n",
    "plt.show()\n"
   ],
   "id": "d2753372dd0ac38a",
   "outputs": [
    {
     "data": {
      "text/plain": [
       "<Figure size 1200x600 with 1 Axes>"
      ],
      "image/png": "[encoded data removed]"
     },
     "metadata": {},
     "output_type": "display_data"
    }
   ],
   "execution_count": 31
  },
  {
   "metadata": {},
   "cell_type": "markdown",
   "source": "## Task2\n",
   "id": "93b6b36fe53d7a9e"
  },
  {
   "metadata": {
    "ExecuteTime": {
     "end_time": "2024-12-01T19:09:31.140312Z",
     "start_time": "2024-12-01T19:09:31.131733Z"
    }
   },
   "cell_type": "code",
   "source": [
    "# mple mean, sample median, sample mode½ sample variance, unbiased sample\n",
    "#variance, sample skewness and kurtosis.\n",
    "mean = np.mean(values)\n",
    "median = np.median(values)\n",
    "var = np.var(values)\n",
    "unbiased_var = np.var(values, ddof=1)"
   ],
   "id": "1630df67c7a2470b",
   "outputs": [],
   "execution_count": 32
  },
  {
   "metadata": {
    "ExecuteTime": {
     "end_time": "2024-12-01T19:09:31.242152Z",
     "start_time": "2024-12-01T19:09:31.233672Z"
    }
   },
   "cell_type": "code",
   "source": [
    "sample_mean_grouped =sum(df['Bin_Middle'] * df['Relative_Frequency']) \n",
    "sample_median_grouped = (values[int(np.floor(len(values)/ 2))] + values[int(np.ceil(len(values)/ 2))]) /2 if len(values) % 2 == 0 else values[int(len(values)/2)]\n"
   ],
   "id": "e799704a7e06be7f",
   "outputs": [],
   "execution_count": 33
  },
  {
   "metadata": {
    "ExecuteTime": {
     "end_time": "2024-12-01T19:09:31.330951Z",
     "start_time": "2024-12-01T19:09:31.323156Z"
    }
   },
   "cell_type": "code",
   "source": [
    "n = len(values)\n",
    "median_position = n / 2\n",
    "median_class_index = np.where(df['Cumulative_Frequency'] >= median_position)[0][0] \n",
    "y_me_minus_1 = bin_edges[median_class_index]  \n",
    "n_me = df['Frequency'][median_class_index]\n",
    "n_me_minus_1 = df['Frequency'][median_class_index - 1] if median_class_index > 0 else 0\n",
    "sample_median_grouped = y_me_minus_1 + bin_len * (median_position - n_me_minus_1) / n_me\n"
   ],
   "id": "62dfe19cef23d8a7",
   "outputs": [],
   "execution_count": 34
  },
  {
   "metadata": {
    "ExecuteTime": {
     "end_time": "2024-12-01T19:09:31.425442Z",
     "start_time": "2024-12-01T19:09:31.416450Z"
    }
   },
   "cell_type": "code",
   "source": [
    "mode_position = df['Frequency'].idxmax()\n",
    "y_mo_minus_1 = bin_edges[median_class_index]\n",
    "n_mo = df['Frequency'][median_class_index]\n",
    "n_mo_minus_1 =  df['Frequency'][median_class_index - 1] if median_class_index > 0 else 0\n",
    "n_mo_plus_1 = df['Frequency'][median_class_index + 1]\n",
    "sample_mode_grouped = y_mo_minus_1 + bin_len * ((n_mo - n_mo_minus_1) / (2*n_mo - n_mo_minus_1 -n_mo_plus_1))\n",
    "\n"
   ],
   "id": "df49a837a292ea38",
   "outputs": [],
   "execution_count": 35
  },
  {
   "metadata": {},
   "cell_type": "markdown",
   "source": "## variance",
   "id": "7c46864a834fd239"
  },
  {
   "metadata": {
    "ExecuteTime": {
     "end_time": "2024-12-01T19:09:31.489593Z",
     "start_time": "2024-12-01T19:09:31.477034Z"
    }
   },
   "cell_type": "code",
   "source": [
    "var = np.var(values)\n",
    "sample_variance_grouped = np.sum(df['Relative_Frequency'] * ((df['Bin_Middle'] - sample_mean_grouped) **2))\n",
    "unbiased_var = np.var(values, ddof=1)\n",
    "unbiased_variance_grouped = len(values) / (len(values) -1)* sample_variance_grouped\n",
    "unbiased_variance_grouped"
   ],
   "id": "a5bc8d27df3aea3b",
   "outputs": [
    {
     "data": {
      "text/plain": [
       "np.float64(0.0316680707070707)"
      ]
     },
     "execution_count": 36,
     "metadata": {},
     "output_type": "execute_result"
    }
   ],
   "execution_count": 36
  },
  {
   "metadata": {},
   "cell_type": "markdown",
   "source": "## measure of shape\n",
   "id": "37cc1a6e2b7c5189"
  },
  {
   "metadata": {
    "ExecuteTime": {
     "end_time": "2024-12-01T19:09:31.663492Z",
     "start_time": "2024-12-01T19:09:31.652223Z"
    }
   },
   "cell_type": "code",
   "source": [
    "sample_skewness = stats.skew(values)\n",
    "sample_kurtosis = stats.kurtosis(values)\n",
    "sample_kurtosis"
   ],
   "id": "7f20381a76903156",
   "outputs": [
    {
     "data": {
      "text/plain": [
       "np.float64(7.224101347755553)"
      ]
     },
     "execution_count": 37,
     "metadata": {},
     "output_type": "execute_result"
    }
   ],
   "execution_count": 37
  },
  {
   "metadata": {
    "ExecuteTime": {
     "end_time": "2024-12-01T19:09:31.771848Z",
     "start_time": "2024-12-01T19:09:31.763230Z"
    }
   },
   "cell_type": "code",
   "source": "sample_skewness",
   "id": "574107be3f828fc5",
   "outputs": [
    {
     "data": {
      "text/plain": [
       "np.float64(2.0937763581752016)"
      ]
     },
     "execution_count": 38,
     "metadata": {},
     "output_type": "execute_result"
    }
   ],
   "execution_count": 38
  },
  {
   "metadata": {
    "ExecuteTime": {
     "end_time": "2024-12-01T19:09:32.746425Z",
     "start_time": "2024-12-01T19:09:31.830716Z"
    }
   },
   "cell_type": "code",
   "source": [
    "fig, ax = plt.subplots(nrows=1, ncols=3, figsize=(15, 5), sharey=True)\n",
    "fig.tight_layout()\n",
    "for i in range(3):\n",
    "    ax[i].spines['right'].set_visible(False)\n",
    "    ax[i].spines['top'].set_visible(False)\n",
    "    # ax[i].spines['left'].set_position('zero')\n",
    "    ax[i].spines['bottom'].set_position('zero')\n",
    "\n",
    "x = np.linspace(min(list(values)) - 0.5, max(list(values)) + 0.5, num=200)\n",
    "y0 = stats.uniform.pdf(x, loc=0, scale=6)\n",
    "y1 = stats.expon.pdf(x, loc=0, scale=1.5)\n",
    "y2 = stats.norm.pdf(x, loc=0, scale=0.5)\n",
    "\n",
    "ax[0].hist(values, bins=int(bin_num), density=True, color='b', edgecolor='k')\n",
    "ax[0].plot(x, y0, linewidth=2, color='y', label='U(a, b)')\n",
    "ax[0].legend(fontsize=15)\n",
    "\n",
    "ax[1].hist(values, bins=int(bin_num), density=True, color='b', edgecolor='k')\n",
    "ax[1].plot(x, y1, linewidth=2, color='y', label=r'Exp($\\lambda$)')\n",
    "ax[1].legend(fontsize=15)\n",
    "\n",
    "ax[2].hist(values, bins=int(bin_num), density=True, color='b', edgecolor='k')\n",
    "ax[2].plot(x, y2, linewidth=2, color='y', label=r'N(a, $\\sigma^2$)')\n",
    "ax[2].legend(fontsize=15)\n",
    "\n",
    "plt.show()"
   ],
   "id": "d8b6615104372793",
   "outputs": [
    {
     "data": {
      "text/plain": [
       "<Figure size 1500x500 with 3 Axes>"
      ],
      "image/png": "[encoded data removed]"
     },
     "metadata": {},
     "output_type": "display_data"
    }
   ],
   "execution_count": 39
  },
  {
   "metadata": {
    "ExecuteTime": {
     "end_time": "2024-12-01T19:09:32.831505Z",
     "start_time": "2024-12-01T19:09:32.826833Z"
    }
   },
   "cell_type": "code",
   "source": "\n",
   "id": "1ac6e4e79d167fda",
   "outputs": [],
   "execution_count": 39
  },
  {
   "metadata": {
    "ExecuteTime": {
     "end_time": "2024-12-01T19:09:33.001247Z",
     "start_time": "2024-12-01T19:09:32.972396Z"
    }
   },
   "cell_type": "code",
   "source": [
    "\n",
    "n = len(values)\n",
    "lambda_ = 1/ sample_mean_grouped\n",
    "bin_edges_1 = [0., 0.81, 1.62, 2.43, 3.24, 5.77]\n",
    "theoretical_frequencies = []\n",
    "for i in range(1, len(bin_edges_1)):\n",
    "    a = bin_edges[i-1]  \n",
    "    b = bin_edges[i]    \n",
    "    Ei = n * (1 - np.exp(-lambda_ * b) - (1 - np.exp(-lambda_ * a)))  \n",
    "    theoretical_frequencies.append(Ei)\n",
    "\n",
    "bins = list(df['Bins'][0:4]) + ['3.24-5.77']\n",
    "frequencies = list(df['Frequency'][0:4]) + [sum(df['Frequency'][4:])]\n",
    "chi_df = pd.DataFrame({\n",
    "    \"Bins\": bins,\n",
    "    'Frequency': frequencies,\n",
    "    'Theoretical_freq': theoretical_frequencies\n",
    "})\n",
    "chi_df['o_e'] = chi_df['Frequency']- chi_df['Theoretical_freq']\n",
    "chi_df['o_e_2'] = (chi_df['o_e']**2)/chi_df['Theoretical_freq']\n",
    "chi_df\n"
   ],
   "id": "42ad46f805a67bf6",
   "outputs": [
    {
     "data": {
      "text/plain": [
       "    Bins  Frequency  Theoretical_freq        o_e       o_e_2\n",
       "0   1.08         49          5.734208  43.265792  326.449401\n",
       "1   1.25         35          4.984399  30.015601  180.751249\n",
       "2   1.42          9          4.332635   4.667365    5.027955\n",
       "3   1.60          5          3.766097   1.233903    0.404269\n",
       "4   1.76          1          3.273639  -2.273639    1.579110\n",
       "5   1.94          0          2.845576  -2.845576    2.845576\n",
       "6   2.10          1          2.473486  -1.473486    0.877774\n",
       "7   2.28          0          2.150051  -2.150051    2.150051\n",
       "8   2.44          0          1.868909  -1.868909    1.868909\n",
       "9   2.62          0          1.624529  -1.624529    1.624529\n",
       "10  2.84          0          2.154876  -2.154876    2.154876"
      ],
      "text/html": [
       "<div>\n",
       "<style scoped>\n",
       "    .dataframe tbody tr th:only-of-type {\n",
       "        vertical-align: middle;\n",
       "    }\n",
       "\n",
       "    .dataframe tbody tr th {\n",
       "        vertical-align: top;\n",
       "    }\n",
       "\n",
       "    .dataframe thead th {\n",
       "        text-align: right;\n",
       "    }\n",
       "</style>\n",
       "<table border=\"1\" class=\"dataframe\">\n",
       "  <thead>\n",
       "    <tr style=\"text-align: right;\">\n",
       "      <th></th>\n",
       "      <th>Bins</th>\n",
       "      <th>Frequency</th>\n",
       "      <th>Theoretical_freq</th>\n",
       "      <th>o_e</th>\n",
       "      <th>o_e_2</th>\n",
       "    </tr>\n",
       "  </thead>\n",
       "  <tbody>\n",
       "    <tr>\n",
       "      <th>0</th>\n",
       "      <td>1.08</td>\n",
       "      <td>49</td>\n",
       "      <td>5.734208</td>\n",
       "      <td>43.265792</td>\n",
       "      <td>326.449401</td>\n",
       "    </tr>\n",
       "    <tr>\n",
       "      <th>1</th>\n",
       "      <td>1.25</td>\n",
       "      <td>35</td>\n",
       "      <td>4.984399</td>\n",
       "      <td>30.015601</td>\n",
       "      <td>180.751249</td>\n",
       "    </tr>\n",
       "    <tr>\n",
       "      <th>2</th>\n",
       "      <td>1.42</td>\n",
       "      <td>9</td>\n",
       "      <td>4.332635</td>\n",
       "      <td>4.667365</td>\n",
       "      <td>5.027955</td>\n",
       "    </tr>\n",
       "    <tr>\n",
       "      <th>3</th>\n",
       "      <td>1.60</td>\n",
       "      <td>5</td>\n",
       "      <td>3.766097</td>\n",
       "      <td>1.233903</td>\n",
       "      <td>0.404269</td>\n",
       "    </tr>\n",
       "    <tr>\n",
       "      <th>4</th>\n",
       "      <td>1.76</td>\n",
       "      <td>1</td>\n",
       "      <td>3.273639</td>\n",
       "      <td>-2.273639</td>\n",
       "      <td>1.579110</td>\n",
       "    </tr>\n",
       "    <tr>\n",
       "      <th>5</th>\n",
       "      <td>1.94</td>\n",
       "      <td>0</td>\n",
       "      <td>2.845576</td>\n",
       "      <td>-2.845576</td>\n",
       "      <td>2.845576</td>\n",
       "    </tr>\n",
       "    <tr>\n",
       "      <th>6</th>\n",
       "      <td>2.10</td>\n",
       "      <td>1</td>\n",
       "      <td>2.473486</td>\n",
       "      <td>-1.473486</td>\n",
       "      <td>0.877774</td>\n",
       "    </tr>\n",
       "    <tr>\n",
       "      <th>7</th>\n",
       "      <td>2.28</td>\n",
       "      <td>0</td>\n",
       "      <td>2.150051</td>\n",
       "      <td>-2.150051</td>\n",
       "      <td>2.150051</td>\n",
       "    </tr>\n",
       "    <tr>\n",
       "      <th>8</th>\n",
       "      <td>2.44</td>\n",
       "      <td>0</td>\n",
       "      <td>1.868909</td>\n",
       "      <td>-1.868909</td>\n",
       "      <td>1.868909</td>\n",
       "    </tr>\n",
       "    <tr>\n",
       "      <th>9</th>\n",
       "      <td>2.62</td>\n",
       "      <td>0</td>\n",
       "      <td>1.624529</td>\n",
       "      <td>-1.624529</td>\n",
       "      <td>1.624529</td>\n",
       "    </tr>\n",
       "    <tr>\n",
       "      <th>10</th>\n",
       "      <td>2.84</td>\n",
       "      <td>0</td>\n",
       "      <td>2.154876</td>\n",
       "      <td>-2.154876</td>\n",
       "      <td>2.154876</td>\n",
       "    </tr>\n",
       "  </tbody>\n",
       "</table>\n",
       "</div>"
      ]
     },
     "execution_count": 40,
     "metadata": {},
     "output_type": "execute_result"
    }
   ],
   "execution_count": 40
  },
  {
   "metadata": {
    "ExecuteTime": {
     "end_time": "2024-12-01T19:09:33.192655Z",
     "start_time": "2024-12-01T19:09:33.188177Z"
    }
   },
   "cell_type": "code",
   "source": "",
   "id": "39617aa3ed6d244",
   "outputs": [],
   "execution_count": null
  },
  {
   "metadata": {
    "ExecuteTime": {
     "end_time": "2024-12-01T19:09:33.246735Z",
     "start_time": "2024-12-01T19:09:33.239758Z"
    }
   },
   "cell_type": "code",
   "source": "x, chi = np.sum(chi_df['o_e_2']), stats.chi2.ppf(q=0.95, df=3)",
   "id": "c99e31bcec46c04b",
   "outputs": [],
   "execution_count": 41
  },
  {
   "metadata": {
    "ExecuteTime": {
     "end_time": "2024-12-01T19:09:39.393248Z",
     "start_time": "2024-12-01T19:09:39.385686Z"
    }
   },
   "cell_type": "code",
   "source": "x\n",
   "id": "716144afaee09c8f",
   "outputs": [
    {
     "data": {
      "text/plain": [
       "np.float64(525.7336996463862)"
      ]
     },
     "execution_count": 43,
     "metadata": {},
     "output_type": "execute_result"
    }
   ],
   "execution_count": 43
  }
 ],
 "metadata": {
  "kernelspec": {
   "display_name": "Python 3",
   "language": "python",
   "name": "python3"
  },
  "language_info": {
   "codemirror_mode": {
    "name": "ipython",
    "version": 2
   },
   "file_extension": ".py",
   "mimetype": "text/x-python",
   "name": "python",
   "nbconvert_exporter": "python",
   "pygments_lexer": "ipython2",
   "version": "2.7.6"
  }
 },
 "nbformat": 4,
 "nbformat_minor": 5
}
